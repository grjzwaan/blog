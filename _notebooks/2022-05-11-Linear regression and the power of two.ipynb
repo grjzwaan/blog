{
 "cells": [
  {
   "cell_type": "markdown",
   "id": "1b05d9b0",
   "metadata": {},
   "source": [
    "# Linear regression and the power of two\n",
    "> A good answer why we minimize squared differences"
   ]
  },
  {
   "cell_type": "markdown",
   "id": "cf69eaac",
   "metadata": {},
   "source": [
    "In linear regression we want to find a linear relation between explanatory variables and a response value. For example we want to find out how the house price (=response value) relates to the size of the house and it's location (=explanatory variables).\n",
    "\n",
    "The response value has to be a continous value like house prices. (There is a variation called _logistic regression_ for discrete outcomes).\n",
    "\n",
    "Linear regression is typically the first estimation method you learn. But why do we minimize the _squared_ sum of differences between the observed responses and the responses of the linear approximation? (This is also called Least Squares)\n",
    "\n",
    "$$ \\min_c  \\sum \\left( (\\underbrace{c_0 + c_1 \\cdot x}_{\\text{Approximation}} ) - \\underbrace{y}_{\\text{Response}} \\right)^2 $$\n",
    "\n",
    "Especially outside math/computer science/econometry courses this is handwaved as \"Two is a good compromise\". Indeed it is, it has to property that all differences (or errors) are positive. This means that an underestimation does not cancel out an overestimation. Additionally, it ensures that many small errors are preferred to few large errors.\n",
    "\n",
    "Perhaps you want to know a better answer. Then read this. Otherwise don't :) It turns out if we take a detour through random variables we derive the 2."
   ]
  },
  {
   "cell_type": "markdown",
   "id": "1c694c51",
   "metadata": {},
   "source": [
    "## Rephrasing with random variables\n",
    "\n",
    "A trick that is often used is to declare that there is a random unobserved factor in play. Even though the process might be completely deterministic. You can argue that horrendous deterministic complexity is random to a simple observer, like a linear approximation of a high dimension function.\n",
    "\n",
    "We can then rephrase the questions as: find a linear relation between explanatory variables and a response value that minimizes the unexplained random factor:\n",
    "\n",
    "$$ y_i = c_0 + c_1 \\cdot x_i + \\epsilon_i $$\n",
    "\n",
    "The previous approach to minimize the squared sum of errors is the same as minimizing the sum of squared unexplained random factors $\\epsilon$.\n",
    "\n",
    "To work with this randomness we need to know or assume on how the randomness behaves. Typically we assume the error is independent identically normally distributed (Gaussian). \n",
    "\n",
    "This is not always reasonable but it is a very good starting point. Independence and identical are quite often true (enough). Because of the Central Limit Theorem we know that a sum of random variables converges to a normal distribution."
   ]
  },
  {
   "cell_type": "markdown",
   "id": "144eef1d",
   "metadata": {},
   "source": [
    "## Maximum likelihood"
   ]
  },
  {
   "cell_type": "markdown",
   "id": "03bbd716",
   "metadata": {},
   "source": [
    "Maximum likelihood is a method of estimating the parameters of an unknown random distribution. Distribution is just a word to describe the possible values and their chances the random variable takes. In our case we are interested in estimating the _mean_ ($\\mu$) and _standard deviation_ ($\\sigma$) of the random factor $\\epsilon$. \n",
    "\n",
    "The possible values and their changes (likelihood) of occuring can be described by the probability density function (PDF). This function caputures this information. The CDF is the cumulative version.\n",
    "\n",
    "There is a slight tricky notion that $pdf(5)$ is _not_ the probablity that the random variable has value 5, but the _density_. The random variable is continuous and there are infinite values in any interval. However the integral (weighted sum) $\\int_{4 < x < 5} pdf(x) d x$ is the probability that x is between 4 and 5. \n",
    "\n",
    "If this confuses you just assume density is _almost_ the probability.\n"
   ]
  },
  {
   "cell_type": "markdown",
   "id": "cf121721",
   "metadata": {},
   "source": [
    "The maximum likelihood of values $x$ occuring is defined as multiplying all densities for each individual $x$. If you read probability instead of density you get the intuition that his quantity relates to the probability of _all_ $x$ occuring simultaneously. Maximimizing this quantity amounts to maximizing the probability.\n",
    "\n"
   ]
  },
  {
   "cell_type": "markdown",
   "id": "71760271",
   "metadata": {},
   "source": [
    "## So...how does this work out?\n",
    "\n",
    "Using maximum likelihood we want to maximize the likelihood that $y_i$ occurs given $x_i$ with parameters $c_0, c_1$ and $\\sigma$:\n",
    "\n",
    "$$ LH(y | x; c_0, c_1, \\sigma) = \\prod_i pdf(y_i | x_i; c_0, c_1, \\sigma)  $$ \n",
    "\n",
    "The PDF of the normal distribution is defined as \n",
    "$$ pdf(x; \\mu, \\sigma) = \\frac{1}{\\sigma \\sqrt(2\\pi)} \\exp \\left[ -\\frac{1}{2} \\left(\\frac{x - \\mu}{\\sigma}\\right)^2 \\right] $$\n",
    "\n",
    "We then get:\n",
    "$$\n",
    "\\begin{aligned}\n",
    "LLH(y | x; c_0, c_1, \\sigma) \n",
    "&= \\sum_i \\log pdf(y_i | x_i; c_0, c_1, \\sigma)  \\\\\n",
    "&= \\sum_i \\log \n",
    "\\left( \\frac{1}{\\sigma \\sqrt(2\\pi)} \n",
    "    \\exp \\left[ \n",
    "        -\\frac{1}{2} \\left( \n",
    "                \\frac{\\left( c_0 + c_1\\cdot x_i \\right) - y_i}{\\sigma} \n",
    "            \\right)^2 \n",
    "    \\right] \n",
    "\\right) \\\\\n",
    "&= \\sum_i \\log \\frac{1}{\\sigma \\sqrt(2\\pi)} + \n",
    "    \\left(\n",
    "        -\\frac{1}{2} \\left( \n",
    "                \\frac{\\left( c_0 + c_1\\cdot x_i \\right) - y_i}{\\sigma} \n",
    "            \\right)^2 \n",
    "    \\right) \\\\\n",
    "\\end{aligned}\n",
    "$$ \n",
    "\n"
   ]
  },
  {
   "cell_type": "markdown",
   "id": "2d4de584",
   "metadata": {},
   "source": [
    "We can already see that, ignoring $\\sigma$, maximizing LLH is equivalent to minimizing least squares. In least squares we did not optimize over $\\sigma$.  To show it also works out if $\\sigma$ would be optimized over we show that the estimation of $\\sigma$ depends on $c_0$, $c_1$, $x$ and $y$. \n",
    "\n",
    "Feel free to skip the last step as it requires more algebra.\n"
   ]
  },
  {
   "cell_type": "markdown",
   "id": "9bc8c122",
   "metadata": {},
   "source": [
    "Note: Before we mentioned that the error has a mean $\\mu$ and standard deviation $\\sigma$. In our case $\\mu$ is superfluous as if it would be non-zero we would set $c_0 := c_0 + \\mu$ and $\\mu := 0$ and all calculations would work out the same."
   ]
  },
  {
   "cell_type": "markdown",
   "id": "51895056",
   "metadata": {},
   "source": [
    "## Last step"
   ]
  },
  {
   "cell_type": "markdown",
   "id": "1a37defa",
   "metadata": {},
   "source": [
    "We show here that the estimation of $\\sigma$ is defined in terms of other parameters and the variables, and is simply the sample standard deviation:\n",
    "\n",
    "$$ \\sigma^2 = \\frac{1}{n} \\sum_i ((c_0 + c_1 \\cdot x_i) - y_i)^2 $$\n"
   ]
  },
  {
   "cell_type": "markdown",
   "id": "900d1bca",
   "metadata": {},
   "source": [
    "The optimal set of parameters that maximize $LLH$ has the property that the partial derivates are zero:\n",
    "\n",
    "$$\n",
    "\\begin{aligned}\n",
    "\\frac{\\partial LLH}{\\partial c_0} &= 0 = -\\frac{1}{\\sigma^2} \\sum_i (c_0 + c_1x_i-y_i) \\\\\n",
    "\\frac{\\partial LLH}{\\partial c_1} & = 0 = -\\frac{1}{\\sigma^2} \\sum_i (c_0 x_i + c_1x_i^2-x_iy_i) \\\\ \n",
    "\\end{aligned}\n",
    "$$\n",
    "\n",
    "Then \n",
    "$$\n",
    "\\begin{aligned}\n",
    "\\frac{\\partial LLH}{\\partial \\sigma} &= - \\frac{n}{2\\sigma^2} + \\left( \\frac{1}{2} \\sum_i \\left( \\left( c_0 + c_1\\cdot x_i \\right) - y_i \\right)^2 \\right) \\left( \\frac{1}{(\\sigma^2)^2}\\right) \\\\\n",
    " &= \\frac{1}{2\\sigma^2} \\left(   \\frac{1}{\\sigma^2} \\sum_i \\left( \\left( c_0 + c_1\\cdot x_i \\right) - y_i \\right)^2  - n  \\right)\n",
    "\\end{aligned}\n",
    "$$\n",
    "Which is only zero if \n",
    "$$ \\sigma^2 = \\frac{1}{n} \\sum_i \\left( \\left( c_0 + c_1\\cdot x_i \\right) - y_i \\right)^2 $$\n"
   ]
  },
  {
   "cell_type": "markdown",
   "id": "684e361d",
   "metadata": {},
   "source": [
    "## Conclusion\n",
    "Now you know 2."
   ]
  }
 ],
 "metadata": {
  "kernelspec": {
   "display_name": "Python 3 (ipykernel)",
   "language": "python",
   "name": "python3"
  },
  "language_info": {
   "codemirror_mode": {
    "name": "ipython",
    "version": 3
   },
   "file_extension": ".py",
   "mimetype": "text/x-python",
   "name": "python",
   "nbconvert_exporter": "python",
   "pygments_lexer": "ipython3",
   "version": "3.8.10"
  }
 },
 "nbformat": 4,
 "nbformat_minor": 5
}
