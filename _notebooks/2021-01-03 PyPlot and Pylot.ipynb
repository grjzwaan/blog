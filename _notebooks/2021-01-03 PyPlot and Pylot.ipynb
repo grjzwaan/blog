{
 "cells": [
  {
   "cell_type": "markdown",
   "id": "0a5ec7b4",
   "metadata": {},
   "source": [
    "# PyPlot and Pylot\n",
    "> Oddly specific Daily Mix with PyP~l~ot as artist. Let's make an electronic music inspired PyPlot of Pylot streaming numbers.\n"
   ]
  },
  {
   "cell_type": "code",
   "execution_count": 65,
   "id": "a707f89e",
   "metadata": {},
   "outputs": [],
   "source": [
    "import matplotlib.pyplot as plt\n",
    "from sklearn import linear_model\n",
    "import numpy as np\n",
    "from matplotlib.collections import LineCollection\n",
    "from matplotlib.colors import ListedColormap, BoundaryNorm"
   ]
  },
  {
   "cell_type": "markdown",
   "id": "0768352a",
   "metadata": {},
   "source": [
    "The data"
   ]
  },
  {
   "cell_type": "code",
   "execution_count": 66,
   "id": "12668dcb",
   "metadata": {},
   "outputs": [],
   "source": [
    "x = [[4*60+22], [4*60+6], [3*60+21], [5*60+25], [3*60+8]]\n",
    "y = [2_762_823, 6_184_448, 4_826_424, 3_544_263, 1_249_864]"
   ]
  },
  {
   "cell_type": "markdown",
   "id": "efdb6657",
   "metadata": {},
   "source": [
    "Linear regression"
   ]
  },
  {
   "cell_type": "code",
   "execution_count": 67,
   "id": "0e662cc6",
   "metadata": {},
   "outputs": [
    {
     "data": {
      "text/plain": [
       "LinearRegression()"
      ]
     },
     "execution_count": 67,
     "metadata": {},
     "output_type": "execute_result"
    }
   ],
   "source": [
    "reg = linear_model.LinearRegression()\n",
    "reg.fit(x, y)"
   ]
  },
  {
   "cell_type": "code",
   "execution_count": 109,
   "id": "5d116846",
   "metadata": {},
   "outputs": [],
   "source": [
    "p = np.array([[p] for p in np.linspace(3*60, 6*60, 20)])\n",
    "yhat = reg.predict(p)"
   ]
  },
  {
   "cell_type": "code",
   "execution_count": 114,
   "id": "f69e1de3",
   "metadata": {},
   "outputs": [
    {
     "data": {
      "image/png": "[encoded data removed]",
      "text/plain": [
       "<Figure size 432x288 with 2 Axes>"
      ]
     },
     "metadata": {
      "needs_background": "light"
     },
     "output_type": "display_data"
    }
   ],
   "source": [
    "fig, ax = plt.subplots()\n",
    "\n",
    "# Scatter\n",
    "plt.scatter(x, y, c=y, cmap='plasma')\n",
    "plt.plot(p, yhat, color=\"pink\", linewidth=3)\n",
    "plt.colorbar()\n",
    "\n",
    "plt.ylabel('#Streams')\n",
    "plt.xlabel('Duration (s)')\n",
    "\n",
    "plt.show()"
   ]
  }
 ],
 "metadata": {
  "kernelspec": {
   "display_name": "Python 3 (ipykernel)",
   "language": "python",
   "name": "python3"
  },
  "language_info": {
   "codemirror_mode": {
    "name": "ipython",
    "version": 3
   },
   "file_extension": ".py",
   "mimetype": "text/x-python",
   "name": "python",
   "nbconvert_exporter": "python",
   "pygments_lexer": "ipython3",
   "version": "3.8.5"
  }
 },
 "nbformat": 4,
 "nbformat_minor": 5
}
